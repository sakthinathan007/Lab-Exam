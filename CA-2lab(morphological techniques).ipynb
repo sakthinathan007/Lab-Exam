{
 "cells": [
  {
   "cell_type": "code",
   "execution_count": 1,
   "id": "06a31827",
   "metadata": {},
   "outputs": [],
   "source": [
    "import numpy as np\n",
    "import cv2\n",
    "from matplotlib import pyplot as plt"
   ]
  },
  {
   "cell_type": "code",
   "execution_count": 2,
   "id": "592bb7fe",
   "metadata": {},
   "outputs": [],
   "source": [
    "img = cv2.imread('Dhoni.jpeg')"
   ]
  },
  {
   "cell_type": "code",
   "execution_count": 3,
   "id": "d7ab71b9",
   "metadata": {},
   "outputs": [],
   "source": [
    "gray=cv2.imread(\"img\",0)"
   ]
  },
  {
   "cell_type": "code",
   "execution_count": 4,
   "id": "5dc7dfd2",
   "metadata": {},
   "outputs": [],
   "source": [
    "kernal=np.ones((8,8),np.uint8)"
   ]
  },
  {
   "cell_type": "code",
   "execution_count": 5,
   "id": "3b250a1e",
   "metadata": {},
   "outputs": [],
   "source": [
    "close = cv2.morphologyEx(img, cv2.MORPH_CLOSE, kernal)"
   ]
  },
  {
   "cell_type": "code",
   "execution_count": 6,
   "id": "6a21418d",
   "metadata": {},
   "outputs": [],
   "source": [
    "open = cv2.morphologyEx(img, cv2.MORPH_OPEN, kernal)"
   ]
  },
  {
   "cell_type": "code",
   "execution_count": 7,
   "id": "fe1e8e3d",
   "metadata": {},
   "outputs": [
    {
     "data": {
      "text/plain": [
       "-1"
      ]
     },
     "execution_count": 7,
     "metadata": {},
     "output_type": "execute_result"
    }
   ],
   "source": [
    "cv2.imshow(\"original\",img)\n",
    "cv2.waitKey(0)\n",
    "cv2.imshow(\"MORPH OPEN\",open)\n",
    "cv2.waitKey(0)\n",
    "cv2.imshow(\"MORPH CLOSE\",open)\n",
    "cv2.waitKey(0)"
   ]
  },
  {
   "cell_type": "code",
   "execution_count": 8,
   "id": "7e270ff3",
   "metadata": {},
   "outputs": [],
   "source": [
    "gradient = cv2.morphologyEx(img, cv2.MORPH_GRADIENT, kernal)"
   ]
  },
  {
   "cell_type": "code",
   "execution_count": 9,
   "id": "c7d2fd96",
   "metadata": {},
   "outputs": [
    {
     "data": {
      "text/plain": [
       "-1"
      ]
     },
     "execution_count": 9,
     "metadata": {},
     "output_type": "execute_result"
    }
   ],
   "source": [
    "cv2.imshow(\"original\",img)\n",
    "cv2.waitKey(0)\n",
    "cv2.imshow(\"MORPH GRAIENT\",gradient)\n",
    "cv2.waitKey(0)"
   ]
  },
  {
   "cell_type": "code",
   "execution_count": 10,
   "id": "64eaf2ab",
   "metadata": {},
   "outputs": [],
   "source": [
    "gray = cv2.cvtColor(img, cv2.COLOR_BGR2GRAY)"
   ]
  },
  {
   "cell_type": "code",
   "execution_count": 13,
   "id": "6f3c8c0d",
   "metadata": {},
   "outputs": [],
   "source": [
    "ret, thresh = cv2.threshold(gray, 0, 255, cv2.THRESH_BINARY_INV + cv2.THRESH_OTSU)"
   ]
  },
  {
   "cell_type": "code",
   "execution_count": 14,
   "id": "6f4670d7",
   "metadata": {},
   "outputs": [
    {
     "data": {
      "text/plain": [
       "-1"
      ]
     },
     "execution_count": 14,
     "metadata": {},
     "output_type": "execute_result"
    }
   ],
   "source": [
    "cv2.imshow(\"original\",img)\n",
    "cv2.waitKey(0)\n",
    "cv2.imshow('image', thresh)\n",
    "cv2.waitKey(0)"
   ]
  }
 ],
 "metadata": {
  "kernelspec": {
   "display_name": "Python 3 (ipykernel)",
   "language": "python",
   "name": "python3"
  },
  "language_info": {
   "codemirror_mode": {
    "name": "ipython",
    "version": 3
   },
   "file_extension": ".py",
   "mimetype": "text/x-python",
   "name": "python",
   "nbconvert_exporter": "python",
   "pygments_lexer": "ipython3",
   "version": "3.10.9"
  }
 },
 "nbformat": 4,
 "nbformat_minor": 5
}
